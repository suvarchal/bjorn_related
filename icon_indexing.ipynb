{
 "cells": [
  {
   "cell_type": "code",
   "execution_count": 1,
   "metadata": {},
   "outputs": [],
   "source": [
    "import numpy as np\n",
    "import pandas as pd\n",
    "import xarray as xr"
   ]
  },
  {
   "cell_type": "markdown",
   "metadata": {},
   "source": [
    "## Does ICON data look like this? "
   ]
  },
  {
   "cell_type": "markdown",
   "metadata": {},
   "source": [
    "\n",
    "###  clat and clon are dimenstioned on ncells"
   ]
  },
  {
   "cell_type": "code",
   "execution_count": 3,
   "metadata": {},
   "outputs": [],
   "source": [
    "ncells=10\n",
    "ntime=2\n",
    "da = xr.DataArray(np.random.random((ntime,ncells)),\n",
    "                      coords={'time':pd.date_range('2010-01-01',periods=ntime),\n",
    "                              'ncells':range(10,20),\n",
    "                              'clat': ('ncells', range(-90,90,18)),\n",
    "                              'clon': ('ncells', range(0,360,36))},\n",
    "                 dims=('time','ncells'))\n"
   ]
  },
  {
   "cell_type": "code",
   "execution_count": 4,
   "metadata": {},
   "outputs": [
    {
     "data": {
      "text/plain": [
       "<xarray.DataArray (time: 2, ncells: 10)>\n",
       "array([[0.783802, 0.522054, 0.854826, 0.101406, 0.228865, 0.391967, 0.161783,\n",
       "        0.6769  , 0.737813, 0.585983],\n",
       "       [0.431944, 0.667856, 0.837359, 0.600827, 0.440348, 0.120492, 0.138685,\n",
       "        0.51562 , 0.847286, 0.610812]])\n",
       "Coordinates:\n",
       "  * time     (time) datetime64[ns] 2010-01-01 2010-01-02\n",
       "  * ncells   (ncells) int64 10 11 12 13 14 15 16 17 18 19\n",
       "    clat     (ncells) int64 -90 -72 -54 -36 -18 0 18 36 54 72\n",
       "    clon     (ncells) int64 0 36 72 108 144 180 216 252 288 324"
      ]
     },
     "execution_count": 4,
     "metadata": {},
     "output_type": "execute_result"
    }
   ],
   "source": [
    "da  "
   ]
  },
  {
   "cell_type": "markdown",
   "metadata": {},
   "source": [
    "# indexing based on clat and clon"
   ]
  },
  {
   "cell_type": "code",
   "execution_count": 5,
   "metadata": {},
   "outputs": [],
   "source": [
    "minlat=0\n",
    "maxlat=60\n",
    "minlon=200\n",
    "maxlon=280"
   ]
  },
  {
   "cell_type": "code",
   "execution_count": 6,
   "metadata": {},
   "outputs": [
    {
     "data": {
      "text/plain": [
       "<xarray.DataArray (time: 2, ncells: 2)>\n",
       "array([[0.161783, 0.6769  ],\n",
       "       [0.138685, 0.51562 ]])\n",
       "Coordinates:\n",
       "  * time     (time) datetime64[ns] 2010-01-01 2010-01-02\n",
       "  * ncells   (ncells) int64 16 17\n",
       "    clat     (ncells) int64 18 36\n",
       "    clon     (ncells) int64 216 252"
      ]
     },
     "execution_count": 6,
     "metadata": {},
     "output_type": "execute_result"
    }
   ],
   "source": [
    "da[:,((da.clon>minlon) & (da.clon<maxlon) & (da.clat>minlat) & (da.clat<maxlat) )]"
   ]
  },
  {
   "cell_type": "markdown",
   "metadata": {},
   "source": [
    "### xarray also has isin"
   ]
  },
  {
   "cell_type": "code",
   "execution_count": 7,
   "metadata": {},
   "outputs": [
    {
     "data": {
      "text/plain": [
       "'0.10.4'"
      ]
     },
     "execution_count": 7,
     "metadata": {},
     "output_type": "execute_result"
    }
   ],
   "source": [
    "xr.__version__"
   ]
  },
  {
   "cell_type": "code",
   "execution_count": 8,
   "metadata": {},
   "outputs": [
    {
     "data": {
      "text/plain": [
       "<xarray.DataArray (time: 2, ncells: 2)>\n",
       "array([[0.161783, 0.6769  ],\n",
       "       [0.138685, 0.51562 ]])\n",
       "Coordinates:\n",
       "  * time     (time) datetime64[ns] 2010-01-01 2010-01-02\n",
       "  * ncells   (ncells) int64 16 17\n",
       "    clat     (ncells) int64 18 36\n",
       "    clon     (ncells) int64 216 252"
      ]
     },
     "execution_count": 8,
     "metadata": {},
     "output_type": "execute_result"
    }
   ],
   "source": [
    "da[:,da.clon.isin([216,252])]"
   ]
  },
  {
   "cell_type": "code",
   "execution_count": null,
   "metadata": {},
   "outputs": [],
   "source": []
  }
 ],
 "metadata": {
  "kernelspec": {
   "display_name": "Python 3",
   "language": "python",
   "name": "python3"
  },
  "language_info": {
   "codemirror_mode": {
    "name": "ipython",
    "version": 3
   },
   "file_extension": ".py",
   "mimetype": "text/x-python",
   "name": "python",
   "nbconvert_exporter": "python",
   "pygments_lexer": "ipython3",
   "version": "3.6.5"
  }
 },
 "nbformat": 4,
 "nbformat_minor": 2
}
